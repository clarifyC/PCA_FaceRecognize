{
 "cells": [
  {
   "cell_type": "code",
   "execution_count": 1,
   "metadata": {
    "collapsed": true,
    "pycharm": {
     "is_executing": false
    }
   },
   "outputs": [],
   "source": [
    "import numpy as np\n",
    "from sklearn.decomposition import PCA\n",
    "import os\n",
    "from PIL import Image\n",
    "homePath = r'E:\\pycharm files\\基于PCA的人脸识别\\\\'"
   ]
  },
  {
   "cell_type": "code",
   "execution_count": null,
   "outputs": [],
   "source": [
    "# 缩减的写法\n",
    "def CreateDatabase(TrainDatabase):\n",
    "    ############# File management\n",
    "    TrainFiles = os.listdir(TrainDatabase)\n",
    "    ############# Construction of 2D matrix from 1D image vectors\n",
    "    T = []\n",
    "    for i in TrainFiles:\n",
    "        if i!='Thumbs.db':\n",
    "            # Train_Number = Train_Number + 1 # Number of all images in the training database\n",
    "            str_ = homePath+ \"TrainDatabase\\\\\" + i\n",
    "            image = Image.open(str_)\n",
    "            img = list(image.getdata())\n",
    "            T.append(img)\n",
    "    T = np.array(T).T\n",
    "    # print(T)\n",
    "    return T"
   ],
   "metadata": {
    "collapsed": false,
    "pycharm": {
     "name": "#%%\n"
    }
   }
  },
  {
   "cell_type": "code",
   "execution_count": 13,
   "outputs": [],
   "source": [
    "# 仿matlab的写法\n",
    "def CreateDatabase(TrainDatabase):\n",
    "    ############# File management\n",
    "    TrainFiles = os.listdir(TrainDatabase)\n",
    "    ############# Construction of 2D matrix from 1D image vectors\n",
    "    T = []\n",
    "    for i in TrainFiles:\n",
    "        if i!='Thumbs.db':\n",
    "            # Train_Number = Train_Number + 1 # Number of all images in the training database\n",
    "            str_ = homePath+ \"TrainDatabase\\\\\" + i\n",
    "            image = Image.open(str_)\n",
    "            img = list(image.getdata())\n",
    "            T.append(img)\n",
    "    T = np.array(T).T\n",
    "    # print(T)\n",
    "    return T\n",
    "    ############# Construction of 2D matrix from 1D image vectors\n",
    "    # T = []\n",
    "    # for i in range(Train_Number):\n",
    "    #     str_ = homePath+ \"TrainDatabase\\\\\" + str(i) + '.jpg'\n",
    "    #     image = Image.open(str_)\n",
    "    #     img = list(image.getdata())\n",
    "    #     T.append(img)\n",
    "    # T = np.array(T).T\n",
    "    # return T\n",
    "\n"
   ],
   "metadata": {
    "collapsed": false,
    "pycharm": {
     "name": "#%%\n",
     "is_executing": false
    }
   }
  },
  {
   "cell_type": "code",
   "execution_count": 34,
   "outputs": [],
   "source": [
    "def EigenfaceCore(T):\n",
    "    \n",
    "    m = T.mean(axis=1).reshape(-1,1) # Computing the average face image m = (1/P)*sum(Tj's)    (j = 1 : P)\n",
    "    # Train_Number = T.shape(1)\n",
    "    \n",
    "    A = T - m # all centered images\n",
    "    \n",
    "    L = np.matmul(A.T,A) # L is the surrogate of covariance matrix C=A*A'.\n",
    "    values,vectors = np.linalg.eig(L) # Diagonal elements of D are the eigenvalues for both L=A'*A and C=A*A'.\n",
    "\n",
    "    L_eig_vec = []\n",
    "    for i in range(len(values)):\n",
    "        if(values[i]>1):\n",
    "            L_eig_vec.append(vectors[:,i])\n",
    "    \n",
    "    L_eig_vec = np.array(L_eig_vec).T\n",
    "    Eigenfaces = np.matmul(A,L_eig_vec)\n",
    "    \n",
    "    return m,A,Eigenfaces"
   ],
   "metadata": {
    "collapsed": false,
    "pycharm": {
     "name": "#%%\n",
     "is_executing": false
    }
   }
  },
  {
   "cell_type": "code",
   "execution_count": 41,
   "outputs": [
    {
     "name": "stdout",
     "text": [
      "[[   3.30178814   -8.62034595    0.56996253 ...  -12.51864762\n",
      "     8.18171614    5.44494558]\n",
      " [   3.33939985   -9.16921291    0.33199297 ...  -11.91619206\n",
      "     8.31500542    4.68863261]\n",
      " [   3.50090175  -10.15651638   -0.61809223 ...  -10.87922283\n",
      "     8.15681302    3.20266331]\n",
      " ...\n",
      " [-155.50136713  120.25098871 -176.33465409 ...   11.06673549\n",
      "    -3.05230149  -67.55023589]\n",
      " [-164.95715398  104.80606879 -152.10058925 ...    3.36456573\n",
      "   -29.6650482   -52.92555891]\n",
      " [-172.74768403   92.06641195 -143.2323496  ...   10.03725712\n",
      "   -33.74304885  -61.53974141]]\n"
     ],
     "output_type": "stream"
    }
   ],
   "source": [
    "T = CreateDatabase(homePath+\"TrainDatabase\")\n",
    "m,A,Eigenfaces = EigenfaceCore(T)\n"
   ],
   "metadata": {
    "collapsed": false,
    "pycharm": {
     "name": "#%%\n",
     "is_executing": false
    }
   }
  },
  {
   "cell_type": "code",
   "execution_count": 6,
   "outputs": [
    {
     "data": {
      "text/plain": "(98304, 19)"
     },
     "metadata": {},
     "output_type": "execute_result",
     "execution_count": 6
    }
   ],
   "source": [
    "from CreateDatabase import CreateDatabase\n",
    "from EigenfaceCore import EigenfaceCore\n",
    "T = CreateDatabase(\"TrainDatabase\\\\\")\n",
    "m,A,Eigenfaces = EigenfaceCore(T)"
   ],
   "metadata": {
    "collapsed": false,
    "pycharm": {
     "name": "#%%\n",
     "is_executing": false
    }
   }
  },
  {
   "cell_type": "code",
   "execution_count": null,
   "outputs": [],
   "source": [
    "\n"
   ],
   "metadata": {
    "collapsed": false,
    "pycharm": {
     "name": "#%%\n"
    }
   }
  }
 ],
 "metadata": {
  "kernelspec": {
   "name": "pycharm-3829732f",
   "language": "python",
   "display_name": "PyCharm (Datamining)"
  },
  "language_info": {
   "codemirror_mode": {
    "name": "ipython",
    "version": 2
   },
   "file_extension": ".py",
   "mimetype": "text/x-python",
   "name": "python",
   "nbconvert_exporter": "python",
   "pygments_lexer": "ipython2",
   "version": "2.7.6"
  },
  "pycharm": {
   "stem_cell": {
    "cell_type": "raw",
    "source": [],
    "metadata": {
     "collapsed": false
    }
   }
  }
 },
 "nbformat": 4,
 "nbformat_minor": 0
}