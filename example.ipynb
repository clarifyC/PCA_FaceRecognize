{
 "cells": [
  {
   "cell_type": "code",
   "execution_count": 1,
   "metadata": {
    "collapsed": true,
    "pycharm": {
     "is_executing": false
    }
   },
   "outputs": [],
   "source": [
    "import numpy as np\n",
    "from sklearn.decomposition import PCA\n",
    "import os\n",
    "from PIL import Image\n",
    "\n",
    "from sklearn.metrics import pairwise_distances\n",
    "homePath = r'E:\\pycharm files\\基于PCA的人脸识别\\\\'"
   ]
  },
  {
   "cell_type": "code",
   "execution_count": 17,
   "outputs": [
    {
     "name": "stdout",
     "text": [
      "E:\\pycharm files\\基于PCA的人脸识别\\\\TrainDatabase\\1.jpg\n",
      "E:\\pycharm files\\基于PCA的人脸识别\\\\TrainDatabase\\2.jpg\n",
      "E:\\pycharm files\\基于PCA的人脸识别\\\\TrainDatabase\\3.jpg\n",
      "E:\\pycharm files\\基于PCA的人脸识别\\\\TrainDatabase\\4.jpg\n",
      "E:\\pycharm files\\基于PCA的人脸识别\\\\TrainDatabase\\5.jpg\n",
      "E:\\pycharm files\\基于PCA的人脸识别\\\\TrainDatabase\\6.jpg\n",
      "E:\\pycharm files\\基于PCA的人脸识别\\\\TrainDatabase\\7.jpg\n",
      "E:\\pycharm files\\基于PCA的人脸识别\\\\TrainDatabase\\8.jpg\n",
      "E:\\pycharm files\\基于PCA的人脸识别\\\\TrainDatabase\\9.jpg\n",
      "E:\\pycharm files\\基于PCA的人脸识别\\\\TrainDatabase\\10.jpg\n",
      "E:\\pycharm files\\基于PCA的人脸识别\\\\TrainDatabase\\11.jpg\n",
      "E:\\pycharm files\\基于PCA的人脸识别\\\\TrainDatabase\\12.jpg\n",
      "E:\\pycharm files\\基于PCA的人脸识别\\\\TrainDatabase\\13.jpg\n",
      "E:\\pycharm files\\基于PCA的人脸识别\\\\TrainDatabase\\14.jpg\n",
      "E:\\pycharm files\\基于PCA的人脸识别\\\\TrainDatabase\\15.jpg\n",
      "E:\\pycharm files\\基于PCA的人脸识别\\\\TrainDatabase\\16.jpg\n",
      "E:\\pycharm files\\基于PCA的人脸识别\\\\TrainDatabase\\17.jpg\n",
      "E:\\pycharm files\\基于PCA的人脸识别\\\\TrainDatabase\\18.jpg\n",
      "E:\\pycharm files\\基于PCA的人脸识别\\\\TrainDatabase\\19.jpg\n",
      "E:\\pycharm files\\基于PCA的人脸识别\\\\TrainDatabase\\20.jpg\n"
     ],
     "output_type": "stream"
    },
    {
     "traceback": [
      "\u001b[1;31m---------------------------------------------------------------------------\u001b[0m",
      "\u001b[1;31mFileNotFoundError\u001b[0m                         Traceback (most recent call last)",
      "\u001b[1;32m~\\AppData\\Local\\Temp/ipykernel_15576/3436037956.py\u001b[0m in \u001b[0;36m<module>\u001b[1;34m\u001b[0m\n\u001b[0;32m      6\u001b[0m \u001b[0mm\u001b[0m\u001b[1;33m,\u001b[0m\u001b[0mA\u001b[0m\u001b[1;33m,\u001b[0m\u001b[0mEigenfaces\u001b[0m \u001b[1;33m=\u001b[0m \u001b[0mEigenfaceCore\u001b[0m\u001b[1;33m(\u001b[0m\u001b[0mT\u001b[0m\u001b[1;33m)\u001b[0m\u001b[1;33m\u001b[0m\u001b[1;33m\u001b[0m\u001b[0m\n\u001b[0;32m      7\u001b[0m \u001b[0mTestImage\u001b[0m \u001b[1;33m=\u001b[0m \u001b[1;34mr\"TestDatabase\\1.jpg\"\u001b[0m\u001b[1;33m\u001b[0m\u001b[1;33m\u001b[0m\u001b[0m\n\u001b[1;32m----> 8\u001b[1;33m \u001b[0midx\u001b[0m\u001b[1;33m=\u001b[0m\u001b[0mRecognition\u001b[0m\u001b[1;33m(\u001b[0m\u001b[0mTestImage\u001b[0m\u001b[1;33m,\u001b[0m \u001b[0mm\u001b[0m\u001b[1;33m,\u001b[0m \u001b[0mA\u001b[0m\u001b[1;33m,\u001b[0m \u001b[0mEigenfaces\u001b[0m\u001b[1;33m)\u001b[0m\u001b[1;33m\u001b[0m\u001b[1;33m\u001b[0m\u001b[0m\n\u001b[0m\u001b[0;32m      9\u001b[0m \u001b[0mprint\u001b[0m\u001b[1;33m(\u001b[0m\u001b[0midx\u001b[0m\u001b[1;33m)\u001b[0m\u001b[1;33m\u001b[0m\u001b[1;33m\u001b[0m\u001b[0m\n",
      "\u001b[1;32mE:\\pycharm files\\基于PCA的人脸识别\\Recognition.py\u001b[0m in \u001b[0;36mRecognition\u001b[1;34m(test_image, m, A, Eigenfaces)\u001b[0m\n",
      "\u001b[1;32mD:\\Anaconda3_2\\lib\\site-packages\\PIL\\Image.py\u001b[0m in \u001b[0;36mopen\u001b[1;34m(fp, mode, formats)\u001b[0m\n\u001b[0;32m   2973\u001b[0m \u001b[1;33m\u001b[0m\u001b[0m\n\u001b[0;32m   2974\u001b[0m     \u001b[1;32mif\u001b[0m \u001b[0mfilename\u001b[0m\u001b[1;33m:\u001b[0m\u001b[1;33m\u001b[0m\u001b[1;33m\u001b[0m\u001b[0m\n\u001b[1;32m-> 2975\u001b[1;33m         \u001b[0mfp\u001b[0m \u001b[1;33m=\u001b[0m \u001b[0mbuiltins\u001b[0m\u001b[1;33m.\u001b[0m\u001b[0mopen\u001b[0m\u001b[1;33m(\u001b[0m\u001b[0mfilename\u001b[0m\u001b[1;33m,\u001b[0m \u001b[1;34m\"rb\"\u001b[0m\u001b[1;33m)\u001b[0m\u001b[1;33m\u001b[0m\u001b[1;33m\u001b[0m\u001b[0m\n\u001b[0m\u001b[0;32m   2976\u001b[0m         \u001b[0mexclusive_fp\u001b[0m \u001b[1;33m=\u001b[0m \u001b[1;32mTrue\u001b[0m\u001b[1;33m\u001b[0m\u001b[1;33m\u001b[0m\u001b[0m\n\u001b[0;32m   2977\u001b[0m \u001b[1;33m\u001b[0m\u001b[0m\n",
      "\u001b[1;31mFileNotFoundError\u001b[0m: [Errno 2] No such file or directory: 'TestDatabase\\\\1.jpg'"
     ],
     "ename": "FileNotFoundError",
     "evalue": "[Errno 2] No such file or directory: 'TestDatabase\\\\1.jpg'",
     "output_type": "error"
    }
   ],
   "source": [
    "from CreateDatabase import CreateDatabase\n",
    "from EigenfaceCore import EigenfaceCore\n",
    "from Recognition import Recognition\n",
    "\n",
    "T = CreateDatabase(\"TrainDatabase\\\\\")\n",
    "m,A,Eigenfaces = EigenfaceCore(T)\n",
    "TestImage = r\"TestDatabase\\1.jpg\"\n",
    "idx=Recognition(TestImage, m, A, Eigenfaces)\n",
    "print(idx)"
   ],
   "metadata": {
    "collapsed": false,
    "pycharm": {
     "name": "#%%\n",
     "is_executing": false
    }
   }
  },
  {
   "cell_type": "code",
   "execution_count": null,
   "outputs": [],
   "source": [
    "# 缩减的写法\n",
    "def CreateDatabase(TrainDatabase):\n",
    "    ############# File management\n",
    "    TrainFiles = os.listdir(TrainDatabase)\n",
    "    Train_Number = 0;\n",
    "    # 统计训练图片数量\n",
    "    for i in range(len(TrainFiles)):\n",
    "        if TrainFiles[i]!='Thumbs.db':\n",
    "            Train_Number = Train_Number + 1\n",
    "    T = []\n",
    "    for i in range(1,Train_Number+1):\n",
    "        str_ = homePath+ \"TrainDatabase\\\\\" + str(i) + \".jpg\"\n",
    "        print(str_)\n",
    "        image = Image.open(str_)\n",
    "        img = list(image.getdata())\n",
    "        T.append(img)\n",
    "    T = np.array(T).T\n",
    "    # print(T)\n",
    "    return T\n",
    "T = CreateDatabase(homePath+\"TrainDatabase\")"
   ],
   "metadata": {
    "collapsed": false,
    "pycharm": {
     "name": "#%%\n"
    }
   }
  },
  {
   "cell_type": "code",
   "execution_count": 65,
   "outputs": [],
   "source": [
    "# 仿matlab的写法\n",
    "def CreateDatabase(TrainDatabase):\n",
    "    ############# File management\n",
    "    TrainFiles = os.listdir(TrainDatabase)\n",
    "    ############# Construction of 2D matrix from 1D image vectors\n",
    "    T = []\n",
    "    \n",
    "    for i in TrainFiles:\n",
    "        if i!='Thumbs.db':\n",
    "            # Train_Number = Train_Number + 1 # Number of all images in the training database\n",
    "            str_ = homePath+ \"TrainDatabase\\\\\" + i\n",
    "            image = Image.open(str_)\n",
    "            img = list(image.getdata())\n",
    "            T.append(img)\n",
    "    T = np.array(T).T\n",
    "    # print(T)\n",
    "    return T\n",
    "    ############# Construction of 2D matrix from 1D image vectors\n",
    "    # T = []\n",
    "    # for i in range(Train_Number):\n",
    "    #     str_ = homePath+ \"TrainDatabase\\\\\" + str(i) + '.jpg'\n",
    "    #     image = Image.open(str_)\n",
    "    #     img = list(image.getdata())\n",
    "    #     T.append(img)\n",
    "    # T = np.array(T).T\n",
    "    # return T\n",
    "\n"
   ],
   "metadata": {
    "collapsed": false,
    "pycharm": {
     "name": "#%%\n",
     "is_executing": false
    }
   }
  },
  {
   "cell_type": "code",
   "execution_count": 34,
   "outputs": [],
   "source": [
    "def EigenfaceCore(T):\n",
    "    \n",
    "    m = T.mean(axis=1).reshape(-1,1) # Computing the average face image m = (1/P)*sum(Tj's)    (j = 1 : P)\n",
    "    # Train_Number = T.shape(1)\n",
    "    \n",
    "    A = T - m # all centered images\n",
    "    \n",
    "    L = np.matmul(A.T,A) # L is the surrogate of covariance matrix C=A*A'.\n",
    "    values,vectors = np.linalg.eig(L) # Diagonal elements of D are the eigenvalues for both L=A'*A and C=A*A'.\n",
    "\n",
    "    L_eig_vec = []\n",
    "    for i in range(len(values)):\n",
    "        if(values[i]>1):\n",
    "            L_eig_vec.append(vectors[:,i])\n",
    "    \n",
    "    L_eig_vec = np.array(L_eig_vec).T\n",
    "    Eigenfaces = np.matmul(A,L_eig_vec)\n",
    "    \n",
    "    return m,A,Eigenfaces"
   ],
   "metadata": {
    "collapsed": false,
    "pycharm": {
     "name": "#%%\n",
     "is_executing": false
    }
   }
  },
  {
   "cell_type": "code",
   "execution_count": 41,
   "outputs": [
    {
     "name": "stdout",
     "text": [
      "[[   3.30178814   -8.62034595    0.56996253 ...  -12.51864762\n",
      "     8.18171614    5.44494558]\n",
      " [   3.33939985   -9.16921291    0.33199297 ...  -11.91619206\n",
      "     8.31500542    4.68863261]\n",
      " [   3.50090175  -10.15651638   -0.61809223 ...  -10.87922283\n",
      "     8.15681302    3.20266331]\n",
      " ...\n",
      " [-155.50136713  120.25098871 -176.33465409 ...   11.06673549\n",
      "    -3.05230149  -67.55023589]\n",
      " [-164.95715398  104.80606879 -152.10058925 ...    3.36456573\n",
      "   -29.6650482   -52.92555891]\n",
      " [-172.74768403   92.06641195 -143.2323496  ...   10.03725712\n",
      "   -33.74304885  -61.53974141]]\n"
     ],
     "output_type": "stream"
    }
   ],
   "source": [
    "T = CreateDatabase(homePath+\"TrainDatabase\")\n",
    "m,A,Eigenfaces = EigenfaceCore(T)\n"
   ],
   "metadata": {
    "collapsed": false,
    "pycharm": {
     "name": "#%%\n",
     "is_executing": false
    }
   }
  },
  {
   "cell_type": "code",
   "execution_count": 2,
   "outputs": [
    {
     "name": "stdout",
     "text": [
      "E:\\pycharm files\\基于PCA的人脸识别\\\\TrainDatabase\\1.jpg\n",
      "E:\\pycharm files\\基于PCA的人脸识别\\\\TrainDatabase\\2.jpg\n",
      "E:\\pycharm files\\基于PCA的人脸识别\\\\TrainDatabase\\3.jpg\n",
      "E:\\pycharm files\\基于PCA的人脸识别\\\\TrainDatabase\\4.jpg\n",
      "E:\\pycharm files\\基于PCA的人脸识别\\\\TrainDatabase\\5.jpg\n",
      "E:\\pycharm files\\基于PCA的人脸识别\\\\TrainDatabase\\6.jpg\n",
      "E:\\pycharm files\\基于PCA的人脸识别\\\\TrainDatabase\\7.jpg\n",
      "E:\\pycharm files\\基于PCA的人脸识别\\\\TrainDatabase\\8.jpg\n",
      "E:\\pycharm files\\基于PCA的人脸识别\\\\TrainDatabase\\9.jpg\n",
      "E:\\pycharm files\\基于PCA的人脸识别\\\\TrainDatabase\\10.jpg\n",
      "E:\\pycharm files\\基于PCA的人脸识别\\\\TrainDatabase\\11.jpg\n",
      "E:\\pycharm files\\基于PCA的人脸识别\\\\TrainDatabase\\12.jpg\n",
      "E:\\pycharm files\\基于PCA的人脸识别\\\\TrainDatabase\\13.jpg\n",
      "E:\\pycharm files\\基于PCA的人脸识别\\\\TrainDatabase\\14.jpg\n",
      "E:\\pycharm files\\基于PCA的人脸识别\\\\TrainDatabase\\15.jpg\n",
      "E:\\pycharm files\\基于PCA的人脸识别\\\\TrainDatabase\\16.jpg\n",
      "E:\\pycharm files\\基于PCA的人脸识别\\\\TrainDatabase\\17.jpg\n",
      "E:\\pycharm files\\基于PCA的人脸识别\\\\TrainDatabase\\18.jpg\n",
      "E:\\pycharm files\\基于PCA的人脸识别\\\\TrainDatabase\\19.jpg\n",
      "E:\\pycharm files\\基于PCA的人脸识别\\\\TrainDatabase\\20.jpg\n"
     ],
     "output_type": "stream"
    }
   ],
   "source": [
    "from CreateDatabase import CreateDatabase\n",
    "from EigenfaceCore import EigenfaceCore\n",
    "T = CreateDatabase(\"TrainDatabase\\\\\")\n",
    "m,A,Eigenfaces = EigenfaceCore(T)\n"
   ],
   "metadata": {
    "collapsed": false,
    "pycharm": {
     "name": "#%%\n",
     "is_executing": false
    }
   }
  },
  {
   "cell_type": "code",
   "execution_count": null,
   "outputs": [],
   "source": [
    "def Recognition(TestImage,m,A,Eigenfaces):\n",
    "    ProjectedImages = []\n",
    "    Train_Number = Eigenfaces.shape[1]\n",
    "    \n",
    "    \n",
    "    "
   ],
   "metadata": {
    "collapsed": false,
    "pycharm": {
     "name": "#%%\n"
    }
   }
  },
  {
   "cell_type": "code",
   "execution_count": 2,
   "outputs": [
    {
     "data": {
      "text/plain": "98304"
     },
     "metadata": {},
     "output_type": "execute_result",
     "execution_count": 2
    }
   ],
   "source": [
    "Eigenfaces.shape[0]"
   ],
   "metadata": {
    "collapsed": false,
    "pycharm": {
     "name": "#%%\n",
     "is_executing": false
    }
   }
  },
  {
   "cell_type": "code",
   "execution_count": 9,
   "outputs": [
    {
     "data": {
      "text/plain": "array([251, 251, 251, ..., 171, 190, 212])"
     },
     "metadata": {},
     "output_type": "execute_result",
     "execution_count": 9
    }
   ],
   "source": [
    "homePath = r'E:\\pycharm files\\基于PCA的人脸识别\\\\'\n",
    "TestImage = input('Enter test image name (a number between 1 to 10): ')\n",
    "TestImage = 'TestDatabase/' + TestImage + '.jpg'\n",
    "image = Image.open(homePath+TestImage)\n",
    "img = np.array(image.getdata())\n",
    "img"
   ],
   "metadata": {
    "collapsed": false,
    "pycharm": {
     "name": "#%%\n",
     "is_executing": false
    }
   }
  },
  {
   "cell_type": "code",
   "execution_count": 4,
   "outputs": [
    {
     "name": "stdout",
     "text": [
      "E:\\pycharm files\\基于PCA的人脸识别\\\\TrainDatabase\\1.jpg\n",
      "E:\\pycharm files\\基于PCA的人脸识别\\\\TrainDatabase\\2.jpg\n",
      "E:\\pycharm files\\基于PCA的人脸识别\\\\TrainDatabase\\3.jpg\n",
      "E:\\pycharm files\\基于PCA的人脸识别\\\\TrainDatabase\\4.jpg\n",
      "E:\\pycharm files\\基于PCA的人脸识别\\\\TrainDatabase\\5.jpg\n",
      "E:\\pycharm files\\基于PCA的人脸识别\\\\TrainDatabase\\6.jpg\n",
      "E:\\pycharm files\\基于PCA的人脸识别\\\\TrainDatabase\\7.jpg\n",
      "E:\\pycharm files\\基于PCA的人脸识别\\\\TrainDatabase\\8.jpg\n",
      "E:\\pycharm files\\基于PCA的人脸识别\\\\TrainDatabase\\9.jpg\n",
      "E:\\pycharm files\\基于PCA的人脸识别\\\\TrainDatabase\\10.jpg\n",
      "E:\\pycharm files\\基于PCA的人脸识别\\\\TrainDatabase\\11.jpg\n",
      "E:\\pycharm files\\基于PCA的人脸识别\\\\TrainDatabase\\12.jpg\n",
      "E:\\pycharm files\\基于PCA的人脸识别\\\\TrainDatabase\\13.jpg\n",
      "E:\\pycharm files\\基于PCA的人脸识别\\\\TrainDatabase\\14.jpg\n",
      "E:\\pycharm files\\基于PCA的人脸识别\\\\TrainDatabase\\15.jpg\n",
      "E:\\pycharm files\\基于PCA的人脸识别\\\\TrainDatabase\\16.jpg\n",
      "E:\\pycharm files\\基于PCA的人脸识别\\\\TrainDatabase\\17.jpg\n",
      "E:\\pycharm files\\基于PCA的人脸识别\\\\TrainDatabase\\18.jpg\n",
      "E:\\pycharm files\\基于PCA的人脸识别\\\\TrainDatabase\\19.jpg\n",
      "E:\\pycharm files\\基于PCA的人脸识别\\\\TrainDatabase\\20.jpg\n"
     ],
     "output_type": "stream"
    }
   ],
   "source": [
    "T = CreateDatabase('TrainDatabase\\\\')\n",
    "m, A, eigenfaces = EigenfaceCore(T)"
   ],
   "metadata": {
    "collapsed": false,
    "pycharm": {
     "name": "#%%\n",
     "is_executing": false
    }
   }
  },
  {
   "cell_type": "code",
   "execution_count": 5,
   "outputs": [],
   "source": [
    "ProjectedImages = []\n",
    "Train_Number = eigenfaces.shape[1]\n",
    "# 将二十张训练图（centered image）都映射到19维的特征空间中\n",
    "ProjectedImages = np.matmul(eigenfaces.T,A)"
   ],
   "metadata": {
    "collapsed": false,
    "pycharm": {
     "name": "#%%\n",
     "is_executing": false
    }
   }
  },
  {
   "cell_type": "code",
   "execution_count": 14,
   "outputs": [],
   "source": [
    "# 读取测试图片\n",
    "TestImage = 'TestDatabase/7.jpg'\n",
    "image = Image.open(homePath+TestImage)\n",
    "InImage = np.array(image.getdata()).reshape(-1,1)\n",
    "Difference = InImage - m\n",
    "\n",
    "# 将测试图片（centered image）映射到19维的特征空间中\n",
    "ProjectedTestImage = np.matmul(eigenfaces.T,Difference)"
   ],
   "metadata": {
    "collapsed": false,
    "pycharm": {
     "name": "#%%\n",
     "is_executing": false
    }
   }
  },
  {
   "cell_type": "code",
   "execution_count": 15,
   "outputs": [
    {
     "name": "stdout",
     "text": [
      "[1521315932.5216944, 1480970490.2171934, 938506494.4270741, 917734865.1741409, 1580509074.0549664, 1510242739.1136413, 1640583010.266213, 1634880820.3886278, 1603849213.8293357, 1689282892.8862965, 1268132174.6907225, 1472169779.7689495, 384860276.2209874, 94338497.49152769, 1359257452.8890038, 1297902335.1924195, 1733622922.3299952, 1774651475.452517, 1736177262.0303986]\n",
      "14\n"
     ],
     "output_type": "stream"
    }
   ],
   "source": [
    "#计算测试特征图到每一张训练特征图欧氏距离\n",
    "Euc_dist = []\n",
    "for i in range(Train_Number):\n",
    "    q = ProjectedImages[:,i].reshape(1,-1)\n",
    "    twoPoints =  np.vstack((ProjectedTestImage.T, q))\n",
    "    temp = pairwise_distances(twoPoints, metric='euclidean')[1,0]\n",
    "    Euc_dist.append(temp)\n",
    "print(Euc_dist)\n",
    "print(np.argmin(Euc_dist)+1)"
   ],
   "metadata": {
    "collapsed": false,
    "pycharm": {
     "name": "#%%\n",
     "is_executing": false
    }
   }
  },
  {
   "cell_type": "code",
   "execution_count": 7,
   "outputs": [
    {
     "name": "stdout",
     "text": [
      "[array([0, 0]), array([4, 3])]\n",
      "[[0. 5.]\n",
      " [5. 0.]]\n"
     ],
     "output_type": "stream"
    }
   ],
   "source": [
    "def Recognition(TestImage, m, A, eigenfaces):\n",
    "\n",
    "    Train_Number = eigenfaces.shape[1]\n",
    "    # 将二十张训练图（centered image）都映射到19维的特征空间中\n",
    "    ProjectedImages = np.matmul(eigenfaces.T,A)\n",
    "    # 读取测试图片\n",
    "    image = Image.open(homePath+TestImage)\n",
    "    InImage = np.array(image.getdata()).reshape(-1,1)\n",
    "    # 归一化/中心化\n",
    "    Difference = InImage - m\n",
    "    \n",
    "    # 将测试图片（centered image）映射到19维的特征空间中\n",
    "    ProjectedTestImage = np.matmul(eigenfaces.T,Difference)\n",
    "    \n",
    "    # 计算测试特征图到每一张训练特征图欧氏距离\n",
    "    Euc_dist = []\n",
    "    for i in range(Train_Number):\n",
    "        q = ProjectedImages[:,i].reshape(1,-1)\n",
    "        twoPoints =  np.vstack((ProjectedTestImage.T, q))\n",
    "        temp = pairwise_distances(twoPoints, metric='euclidean')[1,0]\n",
    "        Euc_dist.append(temp)\n",
    "    out_idx = np.argmin(np.array(Euc_dist))+1\n",
    "    return out_idx"
   ],
   "metadata": {
    "collapsed": false,
    "pycharm": {
     "name": "#%%\n",
     "is_executing": false
    }
   }
  },
  {
   "cell_type": "code",
   "execution_count": null,
   "outputs": [],
   "source": [
    "from sklearn.metrics import pairwise_distances\n",
    "import numpy as np\n",
    "\n",
    "point1 = np.array([0,0])\n",
    "point2 = np.array([4, 3])\n",
    "print([point1, point2])\n",
    "distance = pairwise_distances([point1, point2], metric='euclidean')\n",
    "print(distance)"
   ],
   "metadata": {
    "collapsed": false,
    "pycharm": {
     "name": "#%%\n"
    }
   }
  },
  {
   "cell_type": "code",
   "execution_count": null,
   "outputs": [],
   "source": [
    "def Recognition(test_image, m, A, Eigenfaces):\n",
    "    ProjectedImages = []\n",
    "    Train_Number = Eigenfaces.shape[1]\n",
    "    for i in range(Train_Number):\n",
    "        temp = Eigenfaces.T.dot(A[:,i])\n",
    "        ProjectedImages.append(temp)\n",
    "    InputImage = Image.open(test_image).convert('L')\n",
    "    temp = np.array(InputImage)\n",
    "    irow, icol = temp.shape\n",
    "    InImage = temp.reshape(irow*icol, 1)\n",
    "    Difference = np.double(InImage) - m\n",
    "    ProjectedTestImage = Eigenfaces.T\n",
    "    Euc_dist = []\n",
    "    for i in range(Train_Number):\n",
    "        q = ProjectedImages[i].reshape(-1, 1)\n",
    "        temp = np.linalg.norm(ProjectedTestImage - q)**2\n",
    "        Euc_dist.append(temp)\n",
    "    Euc_dist_min = min(Euc_dist)\n",
    "    Recognized_index = np.argmin(Euc_dist)\n",
    "    OutputName = str(Recognized_index) + '.jpg'\n",
    "    return OutputName"
   ],
   "metadata": {
    "collapsed": false,
    "pycharm": {
     "name": "#%%\n"
    }
   }
  },
  {
   "cell_type": "code",
   "execution_count": null,
   "outputs": [],
   "source": [
    "OutputName = Recognition(TestImage, m, A, eigenfaces)\n",
    "\n",
    "selected_image_path = '/data/Disk_A/biancongcong/test/Face/TrainDatabase/' + output_name\n",
    "print(selected_image_path)\n",
    "selected_image = Image.open(selected_image_path)\n",
    "\n",
    "test_image = Image.open(TestImage)\n",
    "test_image.show()\n",
    "selected_image.show()\n",
    "\n",
    "print('Matched image is:', output_name)\n",
    "\n"
   ],
   "metadata": {
    "collapsed": false,
    "pycharm": {
     "name": "#%%\n"
    }
   }
  }
 ],
 "metadata": {
  "kernelspec": {
   "name": "pycharm-3829732f",
   "language": "python",
   "display_name": "PyCharm (Datamining)"
  },
  "language_info": {
   "codemirror_mode": {
    "name": "ipython",
    "version": 2
   },
   "file_extension": ".py",
   "mimetype": "text/x-python",
   "name": "python",
   "nbconvert_exporter": "python",
   "pygments_lexer": "ipython2",
   "version": "2.7.6"
  },
  "pycharm": {
   "stem_cell": {
    "cell_type": "raw",
    "source": [],
    "metadata": {
     "collapsed": false
    }
   }
  }
 },
 "nbformat": 4,
 "nbformat_minor": 0
}