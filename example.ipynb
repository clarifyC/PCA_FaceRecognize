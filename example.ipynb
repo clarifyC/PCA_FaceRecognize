{
 "cells": [
  {
   "cell_type": "code",
   "execution_count": 4,
   "metadata": {
    "collapsed": true,
    "pycharm": {
     "is_executing": false
    }
   },
   "outputs": [],
   "source": [
    "import numpy as np\n",
    "import os\n",
    "from PIL import Image\n",
    "\n",
    "from sklearn.metrics import pairwise_distances\n",
    "homePath = r'E:\\pycharm files\\基于PCA的人脸识别\\\\'"
   ]
  },
  {
   "cell_type": "code",
   "execution_count": 5,
   "outputs": [],
   "source": [
    "def CreateDatabase(TrainDatabase):\n",
    "    ############# File management\n",
    "    TrainFiles = os.listdir(TrainDatabase)\n",
    "    Train_Number = 0;\n",
    "    # 统计训练图片数量\n",
    "    for i in range(len(TrainFiles)):\n",
    "        if TrainFiles[i]!='Thumbs.db':\n",
    "            Train_Number = Train_Number + 1\n",
    "    T = []\n",
    "    # 按顺序读取文件\n",
    "    for i in range(1,Train_Number+1):\n",
    "        str_ = TrainDatabase + str(i) + \".jpg\"\n",
    "        image = Image.open(str_)\n",
    "        img = list(image.getdata())\n",
    "        T.append(img)\n",
    "    T = np.array(T).T\n",
    "    return T\n",
    "\n",
    "def EigenfaceCore(T):\n",
    "    m = T.mean(axis=1).reshape(-1, 1)  # Computing the average face image m = (1/P)*sum(Tj's)    (j = 1 : P)\n",
    "    # Train_Number = T.shape(1)\n",
    "\n",
    "    A = T - m  # all centered images\n",
    "\n",
    "    L = np.matmul(A.T, A)  # L is the surrogate of covariance matrix C=A*A'.\n",
    "    values, vectors = np.linalg.eig(L)  # Diagonal elements of D are the eigenvalues for both L=A'*A and C=A*A'.\n",
    "\n",
    "    L_eig_vec = []\n",
    "    for i in range(len(values)):\n",
    "        if (values[i] > 1):\n",
    "            L_eig_vec.append(vectors[:, i])\n",
    "\n",
    "    L_eig_vec = np.array(L_eig_vec).T\n",
    "    Eigenfaces = np.matmul(A, L_eig_vec)\n",
    "\n",
    "    return m, A, Eigenfaces\n",
    "def Recognition(TestImage, m, A, eigenfaces):\n",
    "    Train_Number = eigenfaces.shape[1]\n",
    "    # 将二十张训练图（centered image）都映射到19维的特征空间中\n",
    "    ProjectedImages = np.matmul(eigenfaces.T, A)\n",
    "    # 读取测试图片\n",
    "    image = Image.open(TestImage)\n",
    "    InImage = np.array(image.getdata()).reshape(-1, 1)\n",
    "    # 归一化/中心化\n",
    "    Difference = InImage - m\n",
    "\n",
    "    # 将测试图片（centered image）映射到19维的特征空间中\n",
    "    ProjectedTestImage = np.matmul(eigenfaces.T, Difference)\n",
    "\n",
    "    # 计算测试特征图到每一张训练特征图欧氏距离\n",
    "    Euc_dist = []\n",
    "    for i in range(Train_Number):\n",
    "        q = ProjectedImages[:, i].reshape(1, -1)\n",
    "        twoPoints = np.vstack((ProjectedTestImage.T, q))\n",
    "        temp = pairwise_distances(twoPoints, metric='euclidean')[1, 0]\n",
    "        Euc_dist.append(temp)\n",
    "    out_idx = np.argmin(np.array(Euc_dist)) + 1\n",
    "    return out_idx"
   ],
   "metadata": {
    "collapsed": false,
    "pycharm": {
     "name": "#%%\n",
     "is_executing": false
    }
   }
  },
  {
   "cell_type": "code",
   "execution_count": null,
   "outputs": [],
   "source": [
    "\n",
    "\n",
    "from CreateDatabase import CreateDatabase\n",
    "from EigenfaceCore import EigenfaceCore\n",
    "from Recognition import Recognition\n",
    "\n",
    "homePath = r'E:\\pycharm files\\基于PCA的人脸识别\\\\'\n",
    "TrainDatabase = r\"TrainDatabase\\\\\"\n",
    "T = CreateDatabase(homePath+TrainDatabase)\n",
    "m,A,Eigenfaces = EigenfaceCore(T)\n",
    "\n",
    "# 输入测试图片\n",
    "TestImage = input('Enter test image name (a number between 1 to 10): ')\n",
    "TestImage = 'TestDatabase\\\\' + TestImage + '.jpg'\n",
    "OutputName=Recognition(homePath+TestImage, m, A, Eigenfaces)\n",
    "\n",
    "\n",
    "# 绘制测试图片\n",
    "image_test = Image.open(homePath+TestImage)\n",
    "image_test.show()\n",
    "\n",
    "# 绘制匹配到的图片\n",
    "SelectedImage = homePath + r\"TrainDatabase\\\\\" +str(OutputName) + \".jpg\"\n",
    "print(\"Matched image is:\",str(OutputName)+\".jpg\")\n",
    "image_select = Image.open(SelectedImage)\n",
    "image_select.show()"
   ],
   "metadata": {
    "collapsed": false,
    "pycharm": {
     "name": "#%%\n",
     "is_executing": true
    }
   }
  },
  {
   "cell_type": "code",
   "execution_count": null,
   "outputs": [],
   "source": [],
   "metadata": {
    "collapsed": false,
    "pycharm": {
     "name": "#%%"
    }
   }
  }
 ],
 "metadata": {
  "kernelspec": {
   "name": "pycharm-3829732f",
   "language": "python",
   "display_name": "PyCharm (Datamining)"
  },
  "language_info": {
   "codemirror_mode": {
    "name": "ipython",
    "version": 2
   },
   "file_extension": ".py",
   "mimetype": "text/x-python",
   "name": "python",
   "nbconvert_exporter": "python",
   "pygments_lexer": "ipython2",
   "version": "2.7.6"
  },
  "pycharm": {
   "stem_cell": {
    "cell_type": "raw",
    "source": [],
    "metadata": {
     "collapsed": false
    }
   }
  }
 },
 "nbformat": 4,
 "nbformat_minor": 0
}